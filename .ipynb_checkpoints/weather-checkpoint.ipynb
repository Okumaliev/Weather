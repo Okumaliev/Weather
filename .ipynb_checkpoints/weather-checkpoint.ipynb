{
 "cells": [
  {
   "cell_type": "code",
   "execution_count": 1,
   "id": "70e571c4-1f59-4b6c-9a3e-a81b0e9a7d47",
   "metadata": {},
   "outputs": [],
   "source": [
    "import pandas as pd\n",
    "\n",
    "weather = pd.read_csv(\"local_weather.csv\", index_col=\"DATE\")"
   ]
  },
  {
   "cell_type": "code",
   "execution_count": 2,
   "id": "9e1bcb16-b985-46a0-8347-2f93cbbb2674",
   "metadata": {},
   "outputs": [
    {
     "data": {
      "text/html": [
       "<div>\n",
       "<style scoped>\n",
       "    .dataframe tbody tr th:only-of-type {\n",
       "        vertical-align: middle;\n",
       "    }\n",
       "\n",
       "    .dataframe tbody tr th {\n",
       "        vertical-align: top;\n",
       "    }\n",
       "\n",
       "    .dataframe thead th {\n",
       "        text-align: right;\n",
       "    }\n",
       "</style>\n",
       "<table border=\"1\" class=\"dataframe\">\n",
       "  <thead>\n",
       "    <tr style=\"text-align: right;\">\n",
       "      <th></th>\n",
       "      <th>STATION</th>\n",
       "      <th>NAME</th>\n",
       "      <th>DATX</th>\n",
       "      <th>MDTX</th>\n",
       "      <th>PRCP</th>\n",
       "      <th>SNWD</th>\n",
       "      <th>TAVG</th>\n",
       "      <th>TMAX</th>\n",
       "      <th>TMIN</th>\n",
       "    </tr>\n",
       "    <tr>\n",
       "      <th>DATE</th>\n",
       "      <th></th>\n",
       "      <th></th>\n",
       "      <th></th>\n",
       "      <th></th>\n",
       "      <th></th>\n",
       "      <th></th>\n",
       "      <th></th>\n",
       "      <th></th>\n",
       "      <th></th>\n",
       "    </tr>\n",
       "  </thead>\n",
       "  <tbody>\n",
       "    <tr>\n",
       "      <th>1960-01-01</th>\n",
       "      <td>ASN00066037</td>\n",
       "      <td>SYDNEY AIRPORT AMO, AS</td>\n",
       "      <td>NaN</td>\n",
       "      <td>NaN</td>\n",
       "      <td>0.00</td>\n",
       "      <td>NaN</td>\n",
       "      <td>77.0</td>\n",
       "      <td>83.0</td>\n",
       "      <td>67.0</td>\n",
       "    </tr>\n",
       "    <tr>\n",
       "      <th>1960-01-02</th>\n",
       "      <td>ASN00066037</td>\n",
       "      <td>SYDNEY AIRPORT AMO, AS</td>\n",
       "      <td>NaN</td>\n",
       "      <td>NaN</td>\n",
       "      <td>0.00</td>\n",
       "      <td>NaN</td>\n",
       "      <td>74.0</td>\n",
       "      <td>83.0</td>\n",
       "      <td>70.0</td>\n",
       "    </tr>\n",
       "    <tr>\n",
       "      <th>1960-01-03</th>\n",
       "      <td>ASN00066037</td>\n",
       "      <td>SYDNEY AIRPORT AMO, AS</td>\n",
       "      <td>NaN</td>\n",
       "      <td>NaN</td>\n",
       "      <td>0.02</td>\n",
       "      <td>NaN</td>\n",
       "      <td>72.0</td>\n",
       "      <td>79.0</td>\n",
       "      <td>69.0</td>\n",
       "    </tr>\n",
       "    <tr>\n",
       "      <th>1960-01-04</th>\n",
       "      <td>ASN00066037</td>\n",
       "      <td>SYDNEY AIRPORT AMO, AS</td>\n",
       "      <td>NaN</td>\n",
       "      <td>NaN</td>\n",
       "      <td>0.47</td>\n",
       "      <td>NaN</td>\n",
       "      <td>67.0</td>\n",
       "      <td>71.0</td>\n",
       "      <td>63.0</td>\n",
       "    </tr>\n",
       "    <tr>\n",
       "      <th>1960-01-05</th>\n",
       "      <td>ASN00066037</td>\n",
       "      <td>SYDNEY AIRPORT AMO, AS</td>\n",
       "      <td>NaN</td>\n",
       "      <td>NaN</td>\n",
       "      <td>0.55</td>\n",
       "      <td>NaN</td>\n",
       "      <td>66.0</td>\n",
       "      <td>75.0</td>\n",
       "      <td>61.0</td>\n",
       "    </tr>\n",
       "    <tr>\n",
       "      <th>...</th>\n",
       "      <td>...</td>\n",
       "      <td>...</td>\n",
       "      <td>...</td>\n",
       "      <td>...</td>\n",
       "      <td>...</td>\n",
       "      <td>...</td>\n",
       "      <td>...</td>\n",
       "      <td>...</td>\n",
       "      <td>...</td>\n",
       "    </tr>\n",
       "    <tr>\n",
       "      <th>2024-04-18</th>\n",
       "      <td>ASN00066037</td>\n",
       "      <td>SYDNEY AIRPORT AMO, AS</td>\n",
       "      <td>NaN</td>\n",
       "      <td>NaN</td>\n",
       "      <td>0.09</td>\n",
       "      <td>NaN</td>\n",
       "      <td>64.0</td>\n",
       "      <td>73.0</td>\n",
       "      <td>NaN</td>\n",
       "    </tr>\n",
       "    <tr>\n",
       "      <th>2024-04-19</th>\n",
       "      <td>ASN00066037</td>\n",
       "      <td>SYDNEY AIRPORT AMO, AS</td>\n",
       "      <td>NaN</td>\n",
       "      <td>NaN</td>\n",
       "      <td>0.09</td>\n",
       "      <td>NaN</td>\n",
       "      <td>65.0</td>\n",
       "      <td>69.0</td>\n",
       "      <td>55.0</td>\n",
       "    </tr>\n",
       "    <tr>\n",
       "      <th>2024-04-20</th>\n",
       "      <td>ASN00066037</td>\n",
       "      <td>SYDNEY AIRPORT AMO, AS</td>\n",
       "      <td>NaN</td>\n",
       "      <td>NaN</td>\n",
       "      <td>0.27</td>\n",
       "      <td>NaN</td>\n",
       "      <td>65.0</td>\n",
       "      <td>67.0</td>\n",
       "      <td>59.0</td>\n",
       "    </tr>\n",
       "    <tr>\n",
       "      <th>2024-04-21</th>\n",
       "      <td>ASN00066037</td>\n",
       "      <td>SYDNEY AIRPORT AMO, AS</td>\n",
       "      <td>NaN</td>\n",
       "      <td>NaN</td>\n",
       "      <td>0.00</td>\n",
       "      <td>NaN</td>\n",
       "      <td>64.0</td>\n",
       "      <td>69.0</td>\n",
       "      <td>NaN</td>\n",
       "    </tr>\n",
       "    <tr>\n",
       "      <th>2024-04-22</th>\n",
       "      <td>ASN00066037</td>\n",
       "      <td>SYDNEY AIRPORT AMO, AS</td>\n",
       "      <td>NaN</td>\n",
       "      <td>NaN</td>\n",
       "      <td>NaN</td>\n",
       "      <td>NaN</td>\n",
       "      <td>65.0</td>\n",
       "      <td>73.0</td>\n",
       "      <td>57.0</td>\n",
       "    </tr>\n",
       "  </tbody>\n",
       "</table>\n",
       "<p>23485 rows × 9 columns</p>\n",
       "</div>"
      ],
      "text/plain": [
       "                STATION                    NAME  DATX  MDTX  PRCP  SNWD  TAVG  \\\n",
       "DATE                                                                            \n",
       "1960-01-01  ASN00066037  SYDNEY AIRPORT AMO, AS   NaN   NaN  0.00   NaN  77.0   \n",
       "1960-01-02  ASN00066037  SYDNEY AIRPORT AMO, AS   NaN   NaN  0.00   NaN  74.0   \n",
       "1960-01-03  ASN00066037  SYDNEY AIRPORT AMO, AS   NaN   NaN  0.02   NaN  72.0   \n",
       "1960-01-04  ASN00066037  SYDNEY AIRPORT AMO, AS   NaN   NaN  0.47   NaN  67.0   \n",
       "1960-01-05  ASN00066037  SYDNEY AIRPORT AMO, AS   NaN   NaN  0.55   NaN  66.0   \n",
       "...                 ...                     ...   ...   ...   ...   ...   ...   \n",
       "2024-04-18  ASN00066037  SYDNEY AIRPORT AMO, AS   NaN   NaN  0.09   NaN  64.0   \n",
       "2024-04-19  ASN00066037  SYDNEY AIRPORT AMO, AS   NaN   NaN  0.09   NaN  65.0   \n",
       "2024-04-20  ASN00066037  SYDNEY AIRPORT AMO, AS   NaN   NaN  0.27   NaN  65.0   \n",
       "2024-04-21  ASN00066037  SYDNEY AIRPORT AMO, AS   NaN   NaN  0.00   NaN  64.0   \n",
       "2024-04-22  ASN00066037  SYDNEY AIRPORT AMO, AS   NaN   NaN   NaN   NaN  65.0   \n",
       "\n",
       "            TMAX  TMIN  \n",
       "DATE                    \n",
       "1960-01-01  83.0  67.0  \n",
       "1960-01-02  83.0  70.0  \n",
       "1960-01-03  79.0  69.0  \n",
       "1960-01-04  71.0  63.0  \n",
       "1960-01-05  75.0  61.0  \n",
       "...          ...   ...  \n",
       "2024-04-18  73.0   NaN  \n",
       "2024-04-19  69.0  55.0  \n",
       "2024-04-20  67.0  59.0  \n",
       "2024-04-21  69.0   NaN  \n",
       "2024-04-22  73.0  57.0  \n",
       "\n",
       "[23485 rows x 9 columns]"
      ]
     },
     "execution_count": 2,
     "metadata": {},
     "output_type": "execute_result"
    }
   ],
   "source": [
    "weather"
   ]
  },
  {
   "cell_type": "code",
   "execution_count": 3,
   "id": "265befae-8b24-422c-82d9-ccfa8f708b88",
   "metadata": {},
   "outputs": [
    {
     "data": {
      "text/plain": [
       "STATION    0.000000\n",
       "NAME       0.000000\n",
       "DATX       0.999915\n",
       "MDTX       0.999915\n",
       "PRCP       0.000468\n",
       "SNWD       0.999787\n",
       "TAVG       0.050798\n",
       "TMAX       0.001277\n",
       "TMIN       0.002342\n",
       "dtype: float64"
      ]
     },
     "execution_count": 3,
     "metadata": {},
     "output_type": "execute_result"
    }
   ],
   "source": [
    "weather.apply(pd.isnull).sum()/weather.shape[0]"
   ]
  },
  {
   "cell_type": "code",
   "execution_count": 4,
   "id": "e5be1bcd-0b68-47d7-8c56-b8299fe54e66",
   "metadata": {},
   "outputs": [
    {
     "ename": "KeyError",
     "evalue": "\"['SNOW'] not in index\"",
     "output_type": "error",
     "traceback": [
      "\u001b[1;31m---------------------------------------------------------------------------\u001b[0m",
      "\u001b[1;31mKeyError\u001b[0m                                  Traceback (most recent call last)",
      "Cell \u001b[1;32mIn[4], line 1\u001b[0m\n\u001b[1;32m----> 1\u001b[0m core_weather \u001b[38;5;241m=\u001b[39m \u001b[43mweather\u001b[49m\u001b[43m[\u001b[49m\u001b[43m[\u001b[49m\u001b[38;5;124;43m\"\u001b[39;49m\u001b[38;5;124;43mPRCP\u001b[39;49m\u001b[38;5;124;43m\"\u001b[39;49m\u001b[43m,\u001b[49m\u001b[43m \u001b[49m\u001b[38;5;124;43m\"\u001b[39;49m\u001b[38;5;124;43mSNOW\u001b[39;49m\u001b[38;5;124;43m\"\u001b[39;49m\u001b[43m,\u001b[49m\u001b[43m \u001b[49m\u001b[38;5;124;43m\"\u001b[39;49m\u001b[38;5;124;43mSNWD\u001b[39;49m\u001b[38;5;124;43m\"\u001b[39;49m\u001b[43m,\u001b[49m\u001b[43m \u001b[49m\u001b[38;5;124;43m\"\u001b[39;49m\u001b[38;5;124;43mTMAX\u001b[39;49m\u001b[38;5;124;43m\"\u001b[39;49m\u001b[43m,\u001b[49m\u001b[43m \u001b[49m\u001b[38;5;124;43m\"\u001b[39;49m\u001b[38;5;124;43mTMIN\u001b[39;49m\u001b[38;5;124;43m\"\u001b[39;49m\u001b[43m]\u001b[49m\u001b[43m]\u001b[49m\u001b[38;5;241m.\u001b[39mcopy()\n\u001b[0;32m      2\u001b[0m core_weather\u001b[38;5;241m.\u001b[39mcolumns \u001b[38;5;241m=\u001b[39m [\u001b[38;5;124m\"\u001b[39m\u001b[38;5;124mprecip\u001b[39m\u001b[38;5;124m\"\u001b[39m, \u001b[38;5;124m\"\u001b[39m\u001b[38;5;124msnow\u001b[39m\u001b[38;5;124m\"\u001b[39m, \u001b[38;5;124m\"\u001b[39m\u001b[38;5;124msnow_depth\u001b[39m\u001b[38;5;124m\"\u001b[39m, \u001b[38;5;124m\"\u001b[39m\u001b[38;5;124mtemp_max\u001b[39m\u001b[38;5;124m\"\u001b[39m, \u001b[38;5;124m\"\u001b[39m\u001b[38;5;124mtemp_min\u001b[39m\u001b[38;5;124m\"\u001b[39m]\n",
      "File \u001b[1;32m~\\anaconda3\\lib\\site-packages\\pandas\\core\\frame.py:3813\u001b[0m, in \u001b[0;36mDataFrame.__getitem__\u001b[1;34m(self, key)\u001b[0m\n\u001b[0;32m   3811\u001b[0m     \u001b[38;5;28;01mif\u001b[39;00m is_iterator(key):\n\u001b[0;32m   3812\u001b[0m         key \u001b[38;5;241m=\u001b[39m \u001b[38;5;28mlist\u001b[39m(key)\n\u001b[1;32m-> 3813\u001b[0m     indexer \u001b[38;5;241m=\u001b[39m \u001b[38;5;28;43mself\u001b[39;49m\u001b[38;5;241;43m.\u001b[39;49m\u001b[43mcolumns\u001b[49m\u001b[38;5;241;43m.\u001b[39;49m\u001b[43m_get_indexer_strict\u001b[49m\u001b[43m(\u001b[49m\u001b[43mkey\u001b[49m\u001b[43m,\u001b[49m\u001b[43m \u001b[49m\u001b[38;5;124;43m\"\u001b[39;49m\u001b[38;5;124;43mcolumns\u001b[39;49m\u001b[38;5;124;43m\"\u001b[39;49m\u001b[43m)\u001b[49m[\u001b[38;5;241m1\u001b[39m]\n\u001b[0;32m   3815\u001b[0m \u001b[38;5;66;03m# take() does not accept boolean indexers\u001b[39;00m\n\u001b[0;32m   3816\u001b[0m \u001b[38;5;28;01mif\u001b[39;00m \u001b[38;5;28mgetattr\u001b[39m(indexer, \u001b[38;5;124m\"\u001b[39m\u001b[38;5;124mdtype\u001b[39m\u001b[38;5;124m\"\u001b[39m, \u001b[38;5;28;01mNone\u001b[39;00m) \u001b[38;5;241m==\u001b[39m \u001b[38;5;28mbool\u001b[39m:\n",
      "File \u001b[1;32m~\\anaconda3\\lib\\site-packages\\pandas\\core\\indexes\\base.py:6070\u001b[0m, in \u001b[0;36mIndex._get_indexer_strict\u001b[1;34m(self, key, axis_name)\u001b[0m\n\u001b[0;32m   6067\u001b[0m \u001b[38;5;28;01melse\u001b[39;00m:\n\u001b[0;32m   6068\u001b[0m     keyarr, indexer, new_indexer \u001b[38;5;241m=\u001b[39m \u001b[38;5;28mself\u001b[39m\u001b[38;5;241m.\u001b[39m_reindex_non_unique(keyarr)\n\u001b[1;32m-> 6070\u001b[0m \u001b[38;5;28;43mself\u001b[39;49m\u001b[38;5;241;43m.\u001b[39;49m\u001b[43m_raise_if_missing\u001b[49m\u001b[43m(\u001b[49m\u001b[43mkeyarr\u001b[49m\u001b[43m,\u001b[49m\u001b[43m \u001b[49m\u001b[43mindexer\u001b[49m\u001b[43m,\u001b[49m\u001b[43m \u001b[49m\u001b[43maxis_name\u001b[49m\u001b[43m)\u001b[49m\n\u001b[0;32m   6072\u001b[0m keyarr \u001b[38;5;241m=\u001b[39m \u001b[38;5;28mself\u001b[39m\u001b[38;5;241m.\u001b[39mtake(indexer)\n\u001b[0;32m   6073\u001b[0m \u001b[38;5;28;01mif\u001b[39;00m \u001b[38;5;28misinstance\u001b[39m(key, Index):\n\u001b[0;32m   6074\u001b[0m     \u001b[38;5;66;03m# GH 42790 - Preserve name from an Index\u001b[39;00m\n",
      "File \u001b[1;32m~\\anaconda3\\lib\\site-packages\\pandas\\core\\indexes\\base.py:6133\u001b[0m, in \u001b[0;36mIndex._raise_if_missing\u001b[1;34m(self, key, indexer, axis_name)\u001b[0m\n\u001b[0;32m   6130\u001b[0m     \u001b[38;5;28;01mraise\u001b[39;00m \u001b[38;5;167;01mKeyError\u001b[39;00m(\u001b[38;5;124mf\u001b[39m\u001b[38;5;124m\"\u001b[39m\u001b[38;5;124mNone of [\u001b[39m\u001b[38;5;132;01m{\u001b[39;00mkey\u001b[38;5;132;01m}\u001b[39;00m\u001b[38;5;124m] are in the [\u001b[39m\u001b[38;5;132;01m{\u001b[39;00maxis_name\u001b[38;5;132;01m}\u001b[39;00m\u001b[38;5;124m]\u001b[39m\u001b[38;5;124m\"\u001b[39m)\n\u001b[0;32m   6132\u001b[0m not_found \u001b[38;5;241m=\u001b[39m \u001b[38;5;28mlist\u001b[39m(ensure_index(key)[missing_mask\u001b[38;5;241m.\u001b[39mnonzero()[\u001b[38;5;241m0\u001b[39m]]\u001b[38;5;241m.\u001b[39munique())\n\u001b[1;32m-> 6133\u001b[0m \u001b[38;5;28;01mraise\u001b[39;00m \u001b[38;5;167;01mKeyError\u001b[39;00m(\u001b[38;5;124mf\u001b[39m\u001b[38;5;124m\"\u001b[39m\u001b[38;5;132;01m{\u001b[39;00mnot_found\u001b[38;5;132;01m}\u001b[39;00m\u001b[38;5;124m not in index\u001b[39m\u001b[38;5;124m\"\u001b[39m)\n",
      "\u001b[1;31mKeyError\u001b[0m: \"['SNOW'] not in index\""
     ]
    }
   ],
   "source": [
    "core_weather = weather[[\"PRCP\", \"SNOW\", \"SNWD\", \"TMAX\", \"TMIN\"]].copy()\n",
    "core_weather.columns = [\"precip\", \"snow\", \"snow_depth\", \"temp_max\", \"temp_min\"]"
   ]
  },
  {
   "cell_type": "code",
   "execution_count": null,
   "id": "2d32ee77-7cf2-491a-889c-a5da1d3afa9a",
   "metadata": {},
   "outputs": [],
   "source": [
    "core_weather.apply(pd.isnull).sum()"
   ]
  },
  {
   "cell_type": "code",
   "execution_count": null,
   "id": "1816ed63-e162-4567-a19d-a42fb8b13448",
   "metadata": {},
   "outputs": [],
   "source": [
    "core_weather[\"snow\"].value_counts()"
   ]
  },
  {
   "cell_type": "code",
   "execution_count": null,
   "id": "60646af1-5cc3-4718-9931-ecdaffa5680b",
   "metadata": {},
   "outputs": [],
   "source": [
    "core_weather[\"snow_depth\"].value_counts()"
   ]
  },
  {
   "cell_type": "code",
   "execution_count": null,
   "id": "a5eb8a8f-95bb-47a4-a97b-c7e45fb2763e",
   "metadata": {},
   "outputs": [],
   "source": [
    "del core_weather[\"snow\"]"
   ]
  },
  {
   "cell_type": "code",
   "execution_count": null,
   "id": "81b0144b-fbad-4da2-b27d-8aa591bb0189",
   "metadata": {},
   "outputs": [],
   "source": [
    "del core_weather[\"snow_depth\"]"
   ]
  },
  {
   "cell_type": "code",
   "execution_count": null,
   "id": "63001050-a478-40f5-a03e-f11c3b8271d3",
   "metadata": {},
   "outputs": [],
   "source": [
    "core_weather[pd.isnull(core_weather[\"precip\"])]"
   ]
  },
  {
   "cell_type": "code",
   "execution_count": null,
   "id": "d0580913-5048-44e5-9fa5-f6158f395ea9",
   "metadata": {},
   "outputs": [],
   "source": [
    "core_weather.loc[\"2013-12-15\",:]"
   ]
  },
  {
   "cell_type": "code",
   "execution_count": null,
   "id": "0fd5eab5-02b6-48f7-80df-651aaf50a3ac",
   "metadata": {},
   "outputs": [],
   "source": [
    "core_weather[\"precip\"].value_counts() / core_weather.shape[0]"
   ]
  },
  {
   "cell_type": "code",
   "execution_count": null,
   "id": "1fd26762-c3f9-4d31-9db9-a67ca259db39",
   "metadata": {},
   "outputs": [],
   "source": [
    "core_weather[\"precip\"] = core_weather[\"precip\"].fillna(0)"
   ]
  },
  {
   "cell_type": "code",
   "execution_count": null,
   "id": "ab0903ff-094d-408e-be49-8407251d44d2",
   "metadata": {},
   "outputs": [],
   "source": [
    "core_weather.apply(pd.isnull).sum()"
   ]
  },
  {
   "cell_type": "code",
   "execution_count": null,
   "id": "ee291f2c-160a-4b9e-97d7-a7b2046be34f",
   "metadata": {},
   "outputs": [],
   "source": [
    "core_weather[pd.isnull(core_weather[\"temp_min\"])]"
   ]
  },
  {
   "cell_type": "code",
   "execution_count": null,
   "id": "f0c52d48-f6cc-4f76-8414-a6bd6d13d61a",
   "metadata": {},
   "outputs": [],
   "source": [
    "core_weather.loc[\"2011-12-18\":\"2011-12-28\"]"
   ]
  },
  {
   "cell_type": "code",
   "execution_count": null,
   "id": "b3af3c18-c6e0-4ab5-8c83-491d7ec70b91",
   "metadata": {},
   "outputs": [],
   "source": [
    "core_weather = core_weather.fillna(method=\"ffill\")"
   ]
  },
  {
   "cell_type": "code",
   "execution_count": null,
   "id": "5063e87b-a08c-44c5-b747-9118dc775576",
   "metadata": {},
   "outputs": [],
   "source": [
    "core_weather.apply(pd.isnull).sum()"
   ]
  },
  {
   "cell_type": "code",
   "execution_count": null,
   "id": "ed5ba063-0a3a-4027-82b2-8b36272b039f",
   "metadata": {},
   "outputs": [],
   "source": [
    "# Check for missing value defined in data documentation\n",
    "core_weather.apply(lambda x: (x == 9999).sum())"
   ]
  },
  {
   "cell_type": "code",
   "execution_count": null,
   "id": "c1c6f47e-251b-47ab-bde6-7fc376ec72c5",
   "metadata": {},
   "outputs": [],
   "source": [
    "core_weather.dtypes"
   ]
  },
  {
   "cell_type": "code",
   "execution_count": null,
   "id": "8baa093d-3b68-4a95-a243-fa5393f0ba3b",
   "metadata": {},
   "outputs": [],
   "source": [
    "core_weather.index"
   ]
  },
  {
   "cell_type": "code",
   "execution_count": null,
   "id": "785190be-3098-4f70-85f2-28e110b6c331",
   "metadata": {},
   "outputs": [],
   "source": [
    "core_weather.index = pd.to_datetime(core_weather.index)"
   ]
  },
  {
   "cell_type": "code",
   "execution_count": null,
   "id": "6b942d11-f7bf-4dda-b513-9d38f3664e72",
   "metadata": {},
   "outputs": [],
   "source": [
    "core_weather.index"
   ]
  },
  {
   "cell_type": "code",
   "execution_count": null,
   "id": "dbbd26b2-0407-4bf7-9ab2-5d1b8c7afd08",
   "metadata": {},
   "outputs": [],
   "source": [
    "core_weather.index.year"
   ]
  },
  {
   "cell_type": "code",
   "execution_count": null,
   "id": "0cd433ec-9844-4281-901d-dd48f2b66a0f",
   "metadata": {},
   "outputs": [],
   "source": [
    "core_weather[[\"temp_max\", \"temp_min\"]].plot()"
   ]
  },
  {
   "cell_type": "code",
   "execution_count": null,
   "id": "d1980061-0369-41ff-96bb-6b8f2743e079",
   "metadata": {},
   "outputs": [],
   "source": [
    "core_weather.index.year.value_counts().sort_index()"
   ]
  },
  {
   "cell_type": "code",
   "execution_count": null,
   "id": "0ff3f731-9568-43a1-9651-2a20c1e9c792",
   "metadata": {},
   "outputs": [],
   "source": [
    "core_weather[\"precip\"].plot()"
   ]
  },
  {
   "cell_type": "code",
   "execution_count": null,
   "id": "27230d8e-e4a6-40ee-bb03-5f435a250b6f",
   "metadata": {},
   "outputs": [],
   "source": [
    "core_weather.groupby(core_weather.index.year).apply(lambda x: x[\"precip\"].sum()).plot()"
   ]
  },
  {
   "cell_type": "code",
   "execution_count": null,
   "id": "23caa231-0346-4f13-b914-25a3aca44603",
   "metadata": {},
   "outputs": [],
   "source": [
    "core_weather[\"target\"] = core_weather.shift(-1)[\"temp_max\"]"
   ]
  },
  {
   "cell_type": "code",
   "execution_count": null,
   "id": "4fdd842c-b0d5-4465-93bf-07491a931288",
   "metadata": {},
   "outputs": [],
   "source": [
    "core_weather"
   ]
  },
  {
   "cell_type": "code",
   "execution_count": null,
   "id": "5012db4f-48db-4457-b483-9c449142c580",
   "metadata": {},
   "outputs": [],
   "source": [
    "core_weather = core_weather.iloc[:-1,:].copy()"
   ]
  },
  {
   "cell_type": "code",
   "execution_count": null,
   "id": "5f2c71fb-a246-4a52-98ba-eb6e641950bb",
   "metadata": {},
   "outputs": [],
   "source": [
    "core_weather"
   ]
  },
  {
   "cell_type": "code",
   "execution_count": null,
   "id": "d5058de0-db8d-478a-90bf-c7b881e3e7dd",
   "metadata": {},
   "outputs": [],
   "source": [
    "from sklearn.linear_model import Ridge\n",
    "\n",
    "reg = Ridge(alpha=.1)"
   ]
  },
  {
   "cell_type": "code",
   "execution_count": null,
   "id": "b5f90439-579f-4671-8109-0c5161983c59",
   "metadata": {},
   "outputs": [],
   "source": [
    "predictors = [\"precip\", \"temp_max\", \"temp_min\"]"
   ]
  },
  {
   "cell_type": "code",
   "execution_count": null,
   "id": "0bfbd30b-9814-49f9-a428-627892db5494",
   "metadata": {},
   "outputs": [],
   "source": [
    "train = core_weather.loc[:\"2020-12-31\"]\n",
    "test = core_weather.loc[\"2021-01-01\":]"
   ]
  },
  {
   "cell_type": "code",
   "execution_count": null,
   "id": "66d95ff3-552b-4c28-8686-a51e8ad05545",
   "metadata": {},
   "outputs": [],
   "source": [
    "train"
   ]
  },
  {
   "cell_type": "code",
   "execution_count": null,
   "id": "3d1a07e8-2192-4dfa-b5e3-c9acb4d56b00",
   "metadata": {},
   "outputs": [],
   "source": [
    "test"
   ]
  },
  {
   "cell_type": "code",
   "execution_count": null,
   "id": "dd9fdafe-ba79-4158-b6f0-b8966b1d9d7a",
   "metadata": {},
   "outputs": [],
   "source": [
    "reg.fit(train[predictors], train[\"target\"])"
   ]
  },
  {
   "cell_type": "code",
   "execution_count": null,
   "id": "025a1496-37ec-438b-b4a7-a27459cefc74",
   "metadata": {},
   "outputs": [],
   "source": [
    "predictions = reg.predict(test[predictors])"
   ]
  },
  {
   "cell_type": "code",
   "execution_count": null,
   "id": "c66c2437-824e-4ee7-b15f-2e864fb40706",
   "metadata": {},
   "outputs": [],
   "source": [
    "from sklearn.metrics import mean_squared_error\n",
    "\n",
    "mean_squared_error(test[\"target\"], predictions)"
   ]
  },
  {
   "cell_type": "code",
   "execution_count": null,
   "id": "fe012e73-5d7c-4482-83d6-ceae66aa4cfe",
   "metadata": {},
   "outputs": [],
   "source": [
    "combined = pd.concat([test[\"target\"], pd.Series(predictions, index=test.index)], axis=1)\n",
    "combined.columns = [\"actual\", \"predictions\"]"
   ]
  },
  {
   "cell_type": "code",
   "execution_count": null,
   "id": "ba09ac14-01f8-49d3-8a3f-ea96963e383e",
   "metadata": {},
   "outputs": [],
   "source": [
    "combined"
   ]
  },
  {
   "cell_type": "code",
   "execution_count": null,
   "id": "4c17e1f9-1294-4fd8-aac4-26830a3936ab",
   "metadata": {},
   "outputs": [],
   "source": [
    "combined.plot()"
   ]
  },
  {
   "cell_type": "code",
   "execution_count": null,
   "id": "3f16c09b-e283-4d63-a9f9-50ab164798c3",
   "metadata": {},
   "outputs": [],
   "source": [
    "reg.coef_"
   ]
  },
  {
   "cell_type": "code",
   "execution_count": null,
   "id": "f4d27d46-7cc2-42c1-9243-f4aa71eae268",
   "metadata": {},
   "outputs": [],
   "source": [
    "core_weather[\"month_max\"] = core_weather[\"temp_max\"].rolling(30).mean()\n",
    "\n",
    "core_weather[\"month_day_max\"] = core_weather[\"month_max\"] / core_weather[\"temp_max\"]\n",
    "\n",
    "core_weather[\"max_min\"] = core_weather[\"temp_max\"] / core_weather[\"temp_min\"]"
   ]
  },
  {
   "cell_type": "code",
   "execution_count": null,
   "id": "833e72ae-1ba4-4188-b7e3-6689ec35bdcf",
   "metadata": {},
   "outputs": [],
   "source": [
    "core_weather = core_weather.iloc[30:,:].copy()"
   ]
  },
  {
   "cell_type": "code",
   "execution_count": null,
   "id": "9257c8e4-265c-498f-9ccc-2344eeb3aba0",
   "metadata": {},
   "outputs": [],
   "source": [
    "def create_predictions(predictors, core_weather, reg):\n",
    "    train = core_weather.loc[:\"2020-12-31\"]\n",
    "    test = core_weather.loc[\"2021-01-01\":]\n",
    "\n",
    "    reg.fit(train[predictors], train[\"target\"])\n",
    "    predictions = reg.predict(test[predictors])\n",
    "\n",
    "    error = mean_squared_error(test[\"target\"], predictions)\n",
    "    \n",
    "    combined = pd.concat([test[\"target\"], pd.Series(predictions, index=test.index)], axis=1)\n",
    "    combined.columns = [\"actual\", \"predictions\"]\n",
    "    return error, combined"
   ]
  },
  {
   "cell_type": "code",
   "execution_count": null,
   "id": "c1d8e57c-2ead-45f9-aa9f-d4ecd74e5796",
   "metadata": {},
   "outputs": [],
   "source": [
    "predictors = [\"precip\", \"temp_max\", \"temp_min\", \"month_day_max\", \"max_min\"]\n",
    "\n",
    "error, combined = create_predictions(predictors, core_weather, reg)\n",
    "error"
   ]
  },
  {
   "cell_type": "code",
   "execution_count": null,
   "id": "fd729252-272c-433a-8c57-ea029d191231",
   "metadata": {},
   "outputs": [],
   "source": [
    "combined.plot()"
   ]
  },
  {
   "cell_type": "code",
   "execution_count": null,
   "id": "d9882b47-e290-4f3d-bfb3-f6a32d66cae0",
   "metadata": {},
   "outputs": [],
   "source": [
    "core_weather[\"monthly_avg\"] = core_weather[\"temp_max\"].groupby(core_weather.index.month).apply(lambda x: x.expanding(1).mean())\n",
    "core_weather[\"day_of_year_avg\"] = core_weather[\"temp_max\"].groupby(core_weather.index.day_of_year).apply(lambda x: x.expanding(1).mean())"
   ]
  },
  {
   "cell_type": "code",
   "execution_count": null,
   "id": "c29d4f86-834a-4fc1-b010-b8ed8e8da76e",
   "metadata": {},
   "outputs": [],
   "source": [
    "error, combined = create_predictions(predictors + [\"monthly_avg\", \"day_of_year_avg\"], core_weather, reg)\n",
    "error"
   ]
  },
  {
   "cell_type": "code",
   "execution_count": null,
   "id": "145833c6-7c7a-44ae-affb-c02f227c4398",
   "metadata": {},
   "outputs": [],
   "source": [
    "reg.coef_"
   ]
  },
  {
   "cell_type": "code",
   "execution_count": null,
   "id": "5dde8c0a-b90d-494d-a084-1bb9c4d81ca5",
   "metadata": {},
   "outputs": [],
   "source": [
    "core_weather.corr()[\"target\"]"
   ]
  },
  {
   "cell_type": "code",
   "execution_count": null,
   "id": "e9d8f53b-bb7a-40ee-ae20-98f075bd0d46",
   "metadata": {},
   "outputs": [],
   "source": [
    "combined[\"diff\"] = (combined[\"actual\"] - combined[\"predictions\"]).abs()"
   ]
  },
  {
   "cell_type": "code",
   "execution_count": null,
   "id": "398ac252-59ea-4d97-9347-d2359843e944",
   "metadata": {},
   "outputs": [],
   "source": [
    "combined.sort_values(\"diff\", ascending=False).head(10)"
   ]
  },
  {
   "cell_type": "raw",
   "id": "9ab85461-e4d6-47f3-93cc-7f7f57b766e7",
   "metadata": {},
   "source": [
    "# Next steps\n",
    "\n",
    "* Predict weather for entire next week versus a single day\n",
    "* Try data from multiple close-by weather stations over a region\n",
    "* Use more of the predictors in the data file\n",
    "* Create more predictors (ratios, daily averages, etc)\n",
    "* Try different algorithms\n",
    "* Setup backtesting to make predictions for all years (versus just 2021)"
   ]
  },
  {
   "cell_type": "code",
   "execution_count": null,
   "id": "6d3b52c8-4fbc-4eaa-970e-afd61f32a9c7",
   "metadata": {},
   "outputs": [],
   "source": []
  }
 ],
 "metadata": {
  "kernelspec": {
   "display_name": "Python 3 (ipykernel)",
   "language": "python",
   "name": "python3"
  },
  "language_info": {
   "codemirror_mode": {
    "name": "ipython",
    "version": 3
   },
   "file_extension": ".py",
   "mimetype": "text/x-python",
   "name": "python",
   "nbconvert_exporter": "python",
   "pygments_lexer": "ipython3",
   "version": "3.10.9"
  }
 },
 "nbformat": 4,
 "nbformat_minor": 5
}
